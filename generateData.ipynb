{
 "cells": [
  {
   "cell_type": "code",
   "execution_count": 1,
   "metadata": {
    "collapsed": true
   },
   "outputs": [],
   "source": [
    "from music21 import *\n",
    "import os\n",
    "import sys\n",
    "import pandas as pd\n",
    "import re,itertools\n",
    "import site"
   ]
  },
  {
   "cell_type": "code",
   "execution_count": 2,
   "metadata": {
    "collapsed": false
   },
   "outputs": [
    {
     "data": {
      "text/plain": [
       "['/Library/Frameworks/Python.framework/Versions/3.5/lib/python3.5/site-packages',\n",
       " '/Library/Python/3.5/site-packages']"
      ]
     },
     "execution_count": 2,
     "metadata": {},
     "output_type": "execute_result"
    }
   ],
   "source": [
    "site.getsitepackages()\n",
    "#os.getcwd()\n",
    "#Links before i loose them\n",
    "#https://docs.google.com/viewer?a=v&pid=sites&srcid=ZGVmYXVsdGRvbWFpbnxtbDRtZDIwMTZ8Z3g6NTUwZThmNTcxODcxMWVmYQ\n",
    "#http://musicweb.ucsd.edu/~sdubnov/Mu270d/Harmony/marc-steedman.pdf\n",
    "#https://www.youtube.com/user/patdavidmusic/videos\n",
    "#http://ai.stanford.edu/~kdtang/papers/cmj10-jazzgrammar.pdf\n",
    "#http://www.iro.umontreal.ca/~pift6080/H08/documents/papers/lstm_music.pdf\n",
    "#https://www.youtube.com/watch?v=oGGVvTgHMHw"
   ]
  },
  {
   "cell_type": "code",
   "execution_count": 8,
   "metadata": {
    "collapsed": true
   },
   "outputs": [],
   "source": [
    "def _parse(file):\n",
    "    midi = converter.parse(file)\n",
    "    if midi is None:\n",
    "        raise sys.exit('File path invalid')\n",
    "    #depending where your melody is return appropriate index; using zero\n",
    "    return midi[0]\n",
    "\n",
    "    "
   ]
  },
  {
   "cell_type": "code",
   "execution_count": 41,
   "metadata": {
    "collapsed": false
   },
   "outputs": [],
   "source": [
    "def generateNotes(fileName):\n",
    "    #parse\n",
    "    noteList = []\n",
    "    part = _parse(fileName)\n",
    "    print(part.getElementsByClass(tempo.MetronomeMark)[0].number)\n",
    "    print('{0}/{1}'.format(part.getElementsByClass(meter.TimeSignature)[0].numerator,part.getElementsByClass(meter.TimeSignature)[0].denominator))\n",
    "    for i,v in enumerate(part.getElementsByClass(stream.Voice)):\n",
    "        notes = v.getElementsByClass(note.Note).notes;\n",
    "        for i in notes:\n",
    "            noteList.append(i)\n",
    "    if noteList:\n",
    "        print(\"Note/Rest,Octave,Quarter,Offset\")\n",
    "        for n in noteList:\n",
    "            print('{0},{1},{2},{3}'.format(n.name,n.octave,n.quarterLength,float(n.offset)))\n",
    "            \n",
    "    else: raise sys.exit(\"Note List Empty\")       \n",
    "    \n",
    "\n",
    "\n",
    "def generateChords(fileName):\n",
    "    #parse\n",
    "    chordList = []\n",
    "    part = _parse(fileName)\n",
    "    print(part.getElementsByClass(tempo.MetronomeMark)[0].number)\n",
    "    print('{0}/{1}'.format(part.getElementsByClass(meter.TimeSignature)[0].numerator,part.getElementsByClass(meter.TimeSignature)[0].denominator))\n",
    "    for idx,v in enumerate(part.getElementsByClass(stream.Voice)):\n",
    "        chords = v.getElementsByClass(chord.Chord)\n",
    "        for c in chords:\n",
    "            chordList.append(c)\n",
    "            \n",
    "    if chordList:\n",
    "        print(\"FullName,CommonName,Length,Offset\")\n",
    "        for cl in chordList:\n",
    "            print('{0},{1},{2},{3}'.format(cl.fullName,cl.pitchedCommonName,cl.quarterLength,float(cl.offset)))\n",
    "    else: raise sys.exit(\"chord list empty\")\n"
   ]
  },
  {
   "cell_type": "code",
   "execution_count": 75,
   "metadata": {
    "collapsed": false
   },
   "outputs": [],
   "source": [
    "# TODO Improve toggling\n",
    "#if('notes' == sys.argv[1]):\n",
    "#print('Generating notes for MIDI')\n",
    "#generateNotes('/Users/Dixit/Documents/github/jazzml/Oscar-Peterson-2.mid')\n",
    "#generateChords('/Users/Dixit/Documents/github/jazzml/Oscar-Peterson-2.mid')\n",
    "#elif('chords' == sys.argv[1]):\n",
    "#print('Generating Chords for MIDI')\n",
    "\n",
    "#else :\n",
    "    #raise sys.exit('Wrong Arg');"
   ]
  },
  {
   "cell_type": "code",
   "execution_count": 295,
   "metadata": {
    "collapsed": false
   },
   "outputs": [],
   "source": [
    "# The Chords generated are not unique; So need to extract and clean unique chords from above\n",
    "#http://stackoverflow.com/questions/773/how-do-i-use-pythons-itertools-groupby\n",
    "chords=[]\n",
    "def readChordsFromFile():\n",
    "    allChords = []\n",
    "    with open('./midiToChords.txt','r') as f:\n",
    "        mm = f.readline()\n",
    "        sigNum,sigDen = [i for i in f.readline().split('/')]\n",
    "    #Pandas csv reader\n",
    "    chords = pd.read_csv('midiToChords.txt',sep=',',skiprows=2)[:]\n",
    "    chords = chords.sort_values(by=\"Offset\")\n",
    "    return mm,sigNum,sigDen,chords\n",
    "\n"
   ]
  },
  {
   "cell_type": "code",
   "execution_count": 296,
   "metadata": {
    "collapsed": false
   },
   "outputs": [],
   "source": [
    "mm,sigNum,sigDen,chords=readChordsFromFile()\n",
    "#os.getcwd()"
   ]
  },
  {
   "cell_type": "code",
   "execution_count": 297,
   "metadata": {
    "collapsed": false
   },
   "outputs": [
    {
     "name": "stdout",
     "output_type": "stream",
     "text": [
      "mm,sigNum,sigDen,chords length\n",
      "176.0\n",
      " 4 4\n",
      " 297\n"
     ]
    }
   ],
   "source": [
    "print(\"mm,sigNum,sigDen,chords length\")\n",
    "print(mm,sigNum,sigDen,len(chords))"
   ]
  },
  {
   "cell_type": "code",
   "execution_count": 299,
   "metadata": {
    "collapsed": true
   },
   "outputs": [],
   "source": [
    "def getUniqueChords(chords):\n",
    "    sortedChords=[]\n",
    "    for cname in chords['FullName']:\n",
    "        #basic notes are C D E F G A B \n",
    "        #everythin is in string so regexp\n",
    "        # '#' is sharp , '-' is flat in music21\n",
    "        notes = re.findall('[CDEFGAB]+[-]*[flat|sharp]*[in octave]+[1-9]+',cname)\n",
    "        for k in range(len(notes)):\n",
    "            notes[k] = notes[k].replace(' in octave ','').replace('-sharp','#').replace('-flat','-')\n",
    "        sortedChords.append(sorted(notes))\n",
    "    return sortedChords\n",
    "        "
   ]
  },
  {
   "cell_type": "code",
   "execution_count": 301,
   "metadata": {
    "collapsed": false
   },
   "outputs": [],
   "source": [
    "sortedChords = getUniqueChords(chords)\n",
    "duplicate = sortedChords"
   ]
  },
  {
   "cell_type": "code",
   "execution_count": 302,
   "metadata": {
    "collapsed": false
   },
   "outputs": [],
   "source": [
    "finalResult=[]\n",
    "for key,group in itertools.groupby(duplicate):\n",
    "    finalResult.append(key)\n",
    "finalResult = sorted(finalResult)    "
   ]
  },
  {
   "cell_type": "code",
   "execution_count": 303,
   "metadata": {
    "collapsed": false
   },
   "outputs": [],
   "source": [
    "finalResult2 =[]\n",
    "for key2,group2 in itertools.groupby(finalResult):\n",
    "    finalResult2.append(key2)"
   ]
  },
  {
   "cell_type": "code",
   "execution_count": 304,
   "metadata": {
    "collapsed": false
   },
   "outputs": [
    {
     "name": "stdout",
     "output_type": "stream",
     "text": [
      "228\n"
     ]
    }
   ],
   "source": [
    "finalResult2Copy = finalResult2\n",
    "print(len(finalResult2Copy))\n"
   ]
  },
  {
   "cell_type": "code",
   "execution_count": 316,
   "metadata": {
    "collapsed": false
   },
   "outputs": [],
   "source": [
    "for fr in finalResult2Copy:\n",
    "    for c in fr:\n",
    "        if '6' in c or '5' in c:\n",
    "            fr.remove(c)\n",
    "list2 = [x for x in finalResult2Copy if x]\n",
    "list3 = [x for x in list2 if len(x)>2]\n",
    "            \n"
   ]
  },
  {
   "cell_type": "code",
   "execution_count": 318,
   "metadata": {
    "collapsed": false
   },
   "outputs": [
    {
     "data": {
      "text/plain": [
       "45"
      ]
     },
     "execution_count": 318,
     "metadata": {},
     "output_type": "execute_result"
    }
   ],
   "source": [
    "len(list3)"
   ]
  },
  {
   "cell_type": "code",
   "execution_count": 319,
   "metadata": {
    "collapsed": false
   },
   "outputs": [],
   "source": [
    "finalResult2=list3 \n"
   ]
  },
  {
   "cell_type": "code",
   "execution_count": 320,
   "metadata": {
    "collapsed": false
   },
   "outputs": [],
   "source": [
    "finalResult3 =[]\n",
    "for key3,group3 in itertools.groupby(sorted(finalResult2)):\n",
    "    finalResult3.append(key3)"
   ]
  },
  {
   "cell_type": "code",
   "execution_count": 321,
   "metadata": {
    "collapsed": false
   },
   "outputs": [
    {
     "data": {
      "text/plain": [
       "40"
      ]
     },
     "execution_count": 321,
     "metadata": {},
     "output_type": "execute_result"
    }
   ],
   "source": [
    "#maybe best so far ; getting same length while using linux sort\n",
    "len(finalResult3)"
   ]
  },
  {
   "cell_type": "code",
   "execution_count": 322,
   "metadata": {
    "collapsed": false
   },
   "outputs": [],
   "source": [
    "with open(\"uniqueChords.txt\", 'w') as f:\n",
    "    for chord in finalResult3:\n",
    "        for n in chord:\n",
    "            f.write(n)\n",
    "            f.write(' ')\n",
    "        f.write('\\n')"
   ]
  },
  {
   "cell_type": "code",
   "execution_count": null,
   "metadata": {
    "collapsed": true
   },
   "outputs": [],
   "source": []
  },
  {
   "cell_type": "code",
   "execution_count": 212,
   "metadata": {
    "collapsed": true
   },
   "outputs": [],
   "source": [
    "#----------------------xxxxxxxxxxx------------------------------#"
   ]
  },
  {
   "cell_type": "code",
   "execution_count": 213,
   "metadata": {
    "collapsed": true
   },
   "outputs": [],
   "source": []
  },
  {
   "cell_type": "code",
   "execution_count": null,
   "metadata": {
    "collapsed": true
   },
   "outputs": [],
   "source": []
  }
 ],
 "metadata": {
  "kernelspec": {
   "display_name": "Python 3",
   "language": "python",
   "name": "python3"
  },
  "language_info": {
   "codemirror_mode": {
    "name": "ipython",
    "version": 3
   },
   "file_extension": ".py",
   "mimetype": "text/x-python",
   "name": "python",
   "nbconvert_exporter": "python",
   "pygments_lexer": "ipython3",
   "version": "3.5.2"
  }
 },
 "nbformat": 4,
 "nbformat_minor": 0
}
