{
 "cells": [
  {
   "cell_type": "code",
   "execution_count": null,
   "metadata": {
    "collapsed": true
   },
   "outputs": [],
   "source": [
    "import os"
   ]
  },
  {
   "cell_type": "code",
   "execution_count": 3,
   "metadata": {},
   "outputs": [
    {
     "name": "stdout",
     "output_type": "stream",
     "text": [
      "<module 'posixpath' from '/Library/Frameworks/Python.framework/Versions/3.5/lib/python3.5/posixpath.py'>\n"
     ]
    }
   ],
   "source": [
    "print( os.path)"
   ]
  },
  {
   "cell_type": "code",
   "execution_count": null,
   "metadata": {},
   "outputs": [],
   "source": [
    "from __future__ import division, print_function\n",
    "import re\n",
    "import itertools\n",
    "\n",
    "def words(text): return set(text.split())\n",
    "\n",
    "winners = words('''washington adams jefferson jefferson madison madison monroe \n",
    "    monroe adams jackson jackson van-buren harrison polk taylor pierce buchanan \n",
    "    lincoln lincoln grant hayes garfield cleveland harrison cleveland mckinley\n",
    "    mckinley roosevelt taft wilson wilson harding coolidge hoover roosevelt \n",
    "    roosevelt roosevelt roosevelt truman eisenhower eisenhower kennedy johnson nixon \n",
    "    nixon carter reagan reagan bush clinton clinton bush bush obama obama''')\n",
    "\n",
    "losers = words('''clinton jefferson adams pinckney pinckney clinton king adams \n",
    "    jackson adams clay van-buren van-buren clay cass scott fremont breckinridge \n",
    "    mcclellan seymour greeley tilden hancock blaine cleveland harrison bryan bryan \n",
    "    parker bryan roosevelt hughes cox davis smith hoover landon willkie dewey dewey \n",
    "    stevenson stevenson nixon goldwater humphrey mcgovern ford carter mondale \n",
    "    dukakis bush dole gore kerry mccain romney''')"
   ]
  },
  {
   "cell_type": "code",
   "execution_count": 7,
   "metadata": {},
   "outputs": [
    {
     "name": "stdout",
     "output_type": "stream",
     "text": [
      "{'van-buren', 'jefferson', 'adams', 'jackson', 'roosevelt', 'bush', 'cleveland', 'nixon', 'harrison', 'carter', 'hoover', 'clinton'}\n"
     ]
    }
   ],
   "source": [
    "print(winners & losers)"
   ]
  },
  {
   "cell_type": "code",
   "execution_count": 9,
   "metadata": {},
   "outputs": [],
   "source": [
    "losers = losers-winners"
   ]
  },
  {
   "cell_type": "code",
   "execution_count": 35,
   "metadata": {},
   "outputs": [],
   "source": [
    "def mistakes(regex, winners, losers):\n",
    "    \"The set of mistakes made by this regex in classifying winners and losers.\"\n",
    "    return ({\"Should have matched: \" + W \n",
    "             for W in winners if not re.search(regex, W)} |\n",
    "            {\"Should not have matched: \" + L \n",
    "             for L in losers if re.search(regex, L)})\n",
    "\n",
    "def verify(regex, winners, losers): \n",
    "    assert not mistakes(regex, winners, losers)\n",
    "    return True\n",
    "  \n",
    "   # return winNotM, losM\n",
    "\n",
    "xkcd = \"bu|[rn]t|[coy]e|[mtg]a|j|iso|n[hl]|[ae]d|lev|sh|[lnd]i|[po]o|ls\""
   ]
  },
  {
   "cell_type": "code",
   "execution_count": 37,
   "metadata": {},
   "outputs": [
    {
     "name": "stdout",
     "output_type": "stream",
     "text": [
      "{'Should not have matched: fremont'}\n"
     ]
    }
   ],
   "source": [
    "print(mistakes(xkcd,winners,losers))"
   ]
  },
  {
   "cell_type": "code",
   "execution_count": 41,
   "metadata": {},
   "outputs": [],
   "source": [
    "alternative_losers = {'fillmore'} | losers - {'fremont'}"
   ]
  },
  {
   "cell_type": "code",
   "execution_count": 42,
   "metadata": {},
   "outputs": [
    {
     "data": {
      "text/plain": [
       "True"
      ]
     },
     "execution_count": 42,
     "metadata": {},
     "output_type": "execute_result"
    }
   ],
   "source": [
    "verify(xkcd, winners, alternative_losers)"
   ]
  },
  {
   "cell_type": "code",
   "execution_count": null,
   "metadata": {},
   "outputs": [],
   "source": [
    "def subparts(reg):\n",
    "    return set(word[i:i+n+1] for i in range(len(reg)) for n in range(4))\n",
    "def replace(word):return\n",
    "def dotify(word):\n",
    "    return set(  for i in range(len(word) for W in word))"
   ]
  },
  {
   "cell_type": "code",
   "execution_count": null,
   "metadata": {},
   "outputs": [],
   "source": [
    "def regex_part(winners, losers) :\n",
    "    pool = \"\"\n",
    "    for W in winners:\n",
    "        whole = '^'+W+'$'\n",
    "        subp = subparts(whole)"
   ]
  },
  {
   "cell_type": "code",
   "execution_count": null,
   "metadata": {},
   "outputs": [],
   "source": [
    ""
   ]
  }
 ],
 "metadata": {
  "kernelspec": {
   "display_name": "Python 2",
   "language": "python",
   "name": "python2"
  },
  "language_info": {
   "codemirror_mode": {
    "name": "ipython",
    "version": 2.0
   },
   "file_extension": ".py",
   "mimetype": "text/x-python",
   "name": "python",
   "nbconvert_exporter": "python",
   "pygments_lexer": "ipython2",
   "version": "2.7.6"
  }
 },
 "nbformat": 4,
 "nbformat_minor": 0
}